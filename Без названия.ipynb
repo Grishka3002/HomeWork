{
 "cells": [
  {
   "cell_type": "code",
   "execution_count": 1,
   "id": "6c0e9ba6-255b-4f67-9b11-f37a3553c01b",
   "metadata": {},
   "outputs": [
    {
     "ename": "OSError",
     "evalue": "[WinError 10048] Обычно разрешается только одно использование адреса сокета (протокол/сетевой адрес/порт)",
     "output_type": "error",
     "traceback": [
      "\u001b[1;31m---------------------------------------------------------------------------\u001b[0m",
      "\u001b[1;31mOSError\u001b[0m                                   Traceback (most recent call last)",
      "\u001b[1;32mC:\\Users\\3C8A~1\\AppData\\Local\\Temp/ipykernel_892/785285280.py\u001b[0m in \u001b[0;36m<module>\u001b[1;34m\u001b[0m\n\u001b[0;32m     64\u001b[0m \u001b[1;33m\u001b[0m\u001b[0m\n\u001b[0;32m     65\u001b[0m \u001b[1;32mif\u001b[0m \u001b[0m__name__\u001b[0m \u001b[1;33m==\u001b[0m \u001b[1;34m\"__main__\"\u001b[0m\u001b[1;33m:\u001b[0m\u001b[1;33m\u001b[0m\u001b[1;33m\u001b[0m\u001b[0m\n\u001b[1;32m---> 66\u001b[1;33m     \u001b[0mstart_server\u001b[0m\u001b[1;33m(\u001b[0m\u001b[0mmain\u001b[0m\u001b[1;33m,\u001b[0m \u001b[0mdebug\u001b[0m\u001b[1;33m=\u001b[0m\u001b[1;32mTrue\u001b[0m\u001b[1;33m,\u001b[0m \u001b[0mport\u001b[0m\u001b[1;33m=\u001b[0m\u001b[1;36m8080\u001b[0m\u001b[1;33m,\u001b[0m \u001b[0mcdn\u001b[0m\u001b[1;33m=\u001b[0m\u001b[1;32mFalse\u001b[0m\u001b[1;33m)\u001b[0m\u001b[1;33m\u001b[0m\u001b[1;33m\u001b[0m\u001b[0m\n\u001b[0m\u001b[0;32m     67\u001b[0m \u001b[1;33m\u001b[0m\u001b[0m\n",
      "\u001b[1;32mc:\\users\\иван\\appdata\\local\\programs\\python\\python39\\lib\\site-packages\\pywebio\\platform\\tornado.py\u001b[0m in \u001b[0;36mstart_server\u001b[1;34m(applications, port, host, debug, cdn, static_dir, remote_access, reconnect_timeout, allowed_origins, check_origin, auto_open_webbrowser, max_payload_size, **tornado_app_settings)\u001b[0m\n\u001b[0;32m    354\u001b[0m     handler = webio_handler(applications, cdn, allowed_origins=allowed_origins, check_origin=check_origin,\n\u001b[0;32m    355\u001b[0m                             reconnect_timeout=reconnect_timeout)\n\u001b[1;32m--> 356\u001b[1;33m     _, port = _setup_server(webio_handler=handler, port=port, host=host, static_dir=static_dir,\n\u001b[0m\u001b[0;32m    357\u001b[0m                             max_buffer_size=max_payload_size, **tornado_app_settings)\n\u001b[0;32m    358\u001b[0m \u001b[1;33m\u001b[0m\u001b[0m\n",
      "\u001b[1;32mc:\\users\\иван\\appdata\\local\\programs\\python\\python39\\lib\\site-packages\\pywebio\\platform\\tornado.py\u001b[0m in \u001b[0;36m_setup_server\u001b[1;34m(webio_handler, port, host, static_dir, max_buffer_size, **tornado_app_settings)\u001b[0m\n\u001b[0;32m    273\u001b[0m     \u001b[0mapp\u001b[0m \u001b[1;33m=\u001b[0m \u001b[0mtornado\u001b[0m\u001b[1;33m.\u001b[0m\u001b[0mweb\u001b[0m\u001b[1;33m.\u001b[0m\u001b[0mApplication\u001b[0m\u001b[1;33m(\u001b[0m\u001b[0mhandlers\u001b[0m\u001b[1;33m=\u001b[0m\u001b[0mhandlers\u001b[0m\u001b[1;33m,\u001b[0m \u001b[1;33m**\u001b[0m\u001b[0mtornado_app_settings\u001b[0m\u001b[1;33m)\u001b[0m\u001b[1;33m\u001b[0m\u001b[1;33m\u001b[0m\u001b[0m\n\u001b[0;32m    274\u001b[0m     \u001b[1;31m# Credit: https://stackoverflow.com/questions/19074972/content-length-too-long-when-uploading-file-using-tornado\u001b[0m\u001b[1;33m\u001b[0m\u001b[1;33m\u001b[0m\u001b[1;33m\u001b[0m\u001b[0m\n\u001b[1;32m--> 275\u001b[1;33m     \u001b[0mserver\u001b[0m \u001b[1;33m=\u001b[0m \u001b[0mapp\u001b[0m\u001b[1;33m.\u001b[0m\u001b[0mlisten\u001b[0m\u001b[1;33m(\u001b[0m\u001b[0mport\u001b[0m\u001b[1;33m,\u001b[0m \u001b[0maddress\u001b[0m\u001b[1;33m=\u001b[0m\u001b[0mhost\u001b[0m\u001b[1;33m,\u001b[0m \u001b[0mmax_buffer_size\u001b[0m\u001b[1;33m=\u001b[0m\u001b[0mmax_buffer_size\u001b[0m\u001b[1;33m)\u001b[0m\u001b[1;33m\u001b[0m\u001b[1;33m\u001b[0m\u001b[0m\n\u001b[0m\u001b[0;32m    276\u001b[0m     \u001b[1;32mreturn\u001b[0m \u001b[0mserver\u001b[0m\u001b[1;33m,\u001b[0m \u001b[0mport\u001b[0m\u001b[1;33m\u001b[0m\u001b[1;33m\u001b[0m\u001b[0m\n\u001b[0;32m    277\u001b[0m \u001b[1;33m\u001b[0m\u001b[0m\n",
      "\u001b[1;32mc:\\users\\иван\\appdata\\local\\programs\\python\\python39\\lib\\site-packages\\tornado\\web.py\u001b[0m in \u001b[0;36mlisten\u001b[1;34m(self, port, address, **kwargs)\u001b[0m\n\u001b[0;32m   2107\u001b[0m         \"\"\"\n\u001b[0;32m   2108\u001b[0m         \u001b[0mserver\u001b[0m \u001b[1;33m=\u001b[0m \u001b[0mHTTPServer\u001b[0m\u001b[1;33m(\u001b[0m\u001b[0mself\u001b[0m\u001b[1;33m,\u001b[0m \u001b[1;33m**\u001b[0m\u001b[0mkwargs\u001b[0m\u001b[1;33m)\u001b[0m\u001b[1;33m\u001b[0m\u001b[1;33m\u001b[0m\u001b[0m\n\u001b[1;32m-> 2109\u001b[1;33m         \u001b[0mserver\u001b[0m\u001b[1;33m.\u001b[0m\u001b[0mlisten\u001b[0m\u001b[1;33m(\u001b[0m\u001b[0mport\u001b[0m\u001b[1;33m,\u001b[0m \u001b[0maddress\u001b[0m\u001b[1;33m)\u001b[0m\u001b[1;33m\u001b[0m\u001b[1;33m\u001b[0m\u001b[0m\n\u001b[0m\u001b[0;32m   2110\u001b[0m         \u001b[1;32mreturn\u001b[0m \u001b[0mserver\u001b[0m\u001b[1;33m\u001b[0m\u001b[1;33m\u001b[0m\u001b[0m\n\u001b[0;32m   2111\u001b[0m \u001b[1;33m\u001b[0m\u001b[0m\n",
      "\u001b[1;32mc:\\users\\иван\\appdata\\local\\programs\\python\\python39\\lib\\site-packages\\tornado\\tcpserver.py\u001b[0m in \u001b[0;36mlisten\u001b[1;34m(self, port, address)\u001b[0m\n\u001b[0;32m    149\u001b[0m         \u001b[0mthe\u001b[0m\u001b[0;31m \u001b[0m\u001b[0;31m`\u001b[0m\u001b[1;33m.\u001b[0m\u001b[0mIOLoop\u001b[0m\u001b[0;31m`\u001b[0m\u001b[1;33m.\u001b[0m\u001b[1;33m\u001b[0m\u001b[1;33m\u001b[0m\u001b[0m\n\u001b[0;32m    150\u001b[0m         \"\"\"\n\u001b[1;32m--> 151\u001b[1;33m         \u001b[0msockets\u001b[0m \u001b[1;33m=\u001b[0m \u001b[0mbind_sockets\u001b[0m\u001b[1;33m(\u001b[0m\u001b[0mport\u001b[0m\u001b[1;33m,\u001b[0m \u001b[0maddress\u001b[0m\u001b[1;33m=\u001b[0m\u001b[0maddress\u001b[0m\u001b[1;33m)\u001b[0m\u001b[1;33m\u001b[0m\u001b[1;33m\u001b[0m\u001b[0m\n\u001b[0m\u001b[0;32m    152\u001b[0m         \u001b[0mself\u001b[0m\u001b[1;33m.\u001b[0m\u001b[0madd_sockets\u001b[0m\u001b[1;33m(\u001b[0m\u001b[0msockets\u001b[0m\u001b[1;33m)\u001b[0m\u001b[1;33m\u001b[0m\u001b[1;33m\u001b[0m\u001b[0m\n\u001b[0;32m    153\u001b[0m \u001b[1;33m\u001b[0m\u001b[0m\n",
      "\u001b[1;32mc:\\users\\иван\\appdata\\local\\programs\\python\\python39\\lib\\site-packages\\tornado\\netutil.py\u001b[0m in \u001b[0;36mbind_sockets\u001b[1;34m(port, address, family, backlog, flags, reuse_port)\u001b[0m\n\u001b[0;32m    159\u001b[0m         \u001b[0msock\u001b[0m\u001b[1;33m.\u001b[0m\u001b[0msetblocking\u001b[0m\u001b[1;33m(\u001b[0m\u001b[1;32mFalse\u001b[0m\u001b[1;33m)\u001b[0m\u001b[1;33m\u001b[0m\u001b[1;33m\u001b[0m\u001b[0m\n\u001b[0;32m    160\u001b[0m         \u001b[1;32mtry\u001b[0m\u001b[1;33m:\u001b[0m\u001b[1;33m\u001b[0m\u001b[1;33m\u001b[0m\u001b[0m\n\u001b[1;32m--> 161\u001b[1;33m             \u001b[0msock\u001b[0m\u001b[1;33m.\u001b[0m\u001b[0mbind\u001b[0m\u001b[1;33m(\u001b[0m\u001b[0msockaddr\u001b[0m\u001b[1;33m)\u001b[0m\u001b[1;33m\u001b[0m\u001b[1;33m\u001b[0m\u001b[0m\n\u001b[0m\u001b[0;32m    162\u001b[0m         \u001b[1;32mexcept\u001b[0m \u001b[0mOSError\u001b[0m \u001b[1;32mas\u001b[0m \u001b[0me\u001b[0m\u001b[1;33m:\u001b[0m\u001b[1;33m\u001b[0m\u001b[1;33m\u001b[0m\u001b[0m\n\u001b[0;32m    163\u001b[0m             if (\n",
      "\u001b[1;31mOSError\u001b[0m: [WinError 10048] Обычно разрешается только одно использование адреса сокета (протокол/сетевой адрес/порт)"
     ]
    }
   ],
   "source": [
    "from pywebio import start_server\n",
    "from pywebio.input import *\n",
    "from pywebio.output import *\n",
    "from pywebio.session import run_async, run_js\n",
    "\n",
    "import asyncio\n",
    "\n",
    "chat_msgs = []\n",
    "online_users = set()\n",
    "\n",
    "MAX_MESSAGES_COUNT = 100\n",
    "\n",
    "async def main():\n",
    "    global chat_msgs\n",
    "\n",
    "    put_markdown(\"Добро пожаловать в онлайн-чат\")\n",
    "    msg_box = output()\n",
    "    put_scrolltable(msg_box, height = 100, keep_bottom = True)\n",
    "\n",
    "    nickname = await input(\"Войти в чат\", required=True, placeholder=\"Ваше имя\", validate=lambda n: \"Такой пользователь уже существует!\" if n in online_users or n == \"Круто!\" else None)\n",
    "    online_users.add(nickname)\n",
    "\n",
    "    chat_msgs.append(\"Круто!\", f\"'{nickname}' присоединился к чату\")\n",
    "    msg_box.append(put_markdown(f\"'{nickname}' присоединился к чату\"))\n",
    "\n",
    "    refresh_task = run_async(refresh_msg(nickname, msg_box))\n",
    "\n",
    "    while True:\n",
    "        data = await input_group(\" Новое сообщение\", [\n",
    "            input(placeholder=\"Текст сообщения\", name=\"msg\"),\n",
    "            actions(name=\"cmd\", buttos=[\"Отправить\", {'label':\"Выйти из чата\", 'type':'cancel'}])\n",
    "        ], validate = lambda m: ('msg', \"Введите текст сообщения!\") if m[\"cmd\"] == \"Отправить\" and not m[\"msg\"] else None)\n",
    "\n",
    "        if data is None:\n",
    "            break\n",
    "\n",
    "        msg_box.append(put_markdown(f\"'{nickname}':{data['msg']}\"))\n",
    "        chat_msgs.append((nickname, data['msg']))\n",
    "\n",
    "    refresh_task.closed()\n",
    "\n",
    "    online_users.remove(nickname)\n",
    "    toast(\"Вы вышли из чата!\")\n",
    "    msg_box.append(put_markdown(f\"Пользователь '{nickname}' покинул чат!\"))\n",
    "    chat_msgs.append(('Эх', f\"Пользователь '{nickname}' покинул чат!\"))\n",
    "\n",
    "    put_button([\"Перезайти\"], onclick=lambda btn: run_js('window.location.reload()'))\n",
    "\n",
    "async def refresh_msg(nickname, msg_box):\n",
    "    global chat_msgs\n",
    "    last_idx = len(chat_msgs)\n",
    "\n",
    "    while True:\n",
    "        await asyncio.sleep(1)\n",
    "\n",
    "        for m in chat_msgs[last_idx:]:\n",
    "            if m[0] != nickname:\n",
    "                msg_box.append(put_markdown(f\"'{m[0]}':{m[1]}\"))\n",
    "        \n",
    "        if len(chat_msgs) > MAX_MESSAGES_COUNT:\n",
    "            chat_msgs = chat_msgs[len(chat_msgsm) // 2:]\n",
    "\n",
    "        last_idx = len(chat_msgs)\n",
    "\n",
    "if __name__ == \"__main__\":\n",
    "    start_server(main, debug=True, port=8080, cdn=False)\n",
    "   "
   ]
  },
  {
   "cell_type": "code",
   "execution_count": null,
   "id": "80d12412-e339-4c00-a466-4e47cbd446e2",
   "metadata": {},
   "outputs": [],
   "source": []
  }
 ],
 "metadata": {
  "kernelspec": {
   "display_name": "Python 3 (ipykernel)",
   "language": "python",
   "name": "python3"
  },
  "language_info": {
   "codemirror_mode": {
    "name": "ipython",
    "version": 3
   },
   "file_extension": ".py",
   "mimetype": "text/x-python",
   "name": "python",
   "nbconvert_exporter": "python",
   "pygments_lexer": "ipython3",
   "version": "3.9.5"
  }
 },
 "nbformat": 4,
 "nbformat_minor": 5
}
